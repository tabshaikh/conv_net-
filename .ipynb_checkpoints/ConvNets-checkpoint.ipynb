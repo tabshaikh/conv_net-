{
 "cells": [
  {
   "cell_type": "code",
   "execution_count": 1,
   "metadata": {},
   "outputs": [
    {
     "name": "stderr",
     "output_type": "stream",
     "text": [
      "/home/tab/anaconda3/envs/tf/lib/python3.5/site-packages/h5py/__init__.py:34: FutureWarning: Conversion of the second argument of issubdtype from `float` to `np.floating` is deprecated. In future, it will be treated as `np.float64 == np.dtype(float).type`.\n",
      "  from ._conv import register_converters as _register_converters\n"
     ]
    }
   ],
   "source": [
    "# with keras window size can be adjusted \n",
    "import tensorflow as tf\n",
    "from tensorflow.keras.models import Sequential\n",
    "from tensorflow.keras.layers import Dense, Dropout, Activation, Flatten, Conv2D, MaxPooling2D\n",
    "import pickle"
   ]
  },
  {
   "cell_type": "code",
   "execution_count": null,
   "metadata": {},
   "outputs": [
    {
     "name": "stdout",
     "output_type": "stream",
     "text": [
      "Train on 22451 samples, validate on 2495 samples\n",
      "Epoch 1/3\n",
      "22451/22451 [==============================] - 137s 6ms/step - loss: 0.6023 - acc: 0.6656 - val_loss: 0.4999 - val_acc: 0.7603\n",
      "Epoch 2/3\n",
      "  650/22451 [..............................] - ETA: 2:19 - loss: 0.5361 - acc: 0.7323"
     ]
    }
   ],
   "source": [
    "X = pickle.load(open(\"x_train\",\"rb\"))\n",
    "Y = pickle.load(open(\"y_train\",\"rb\"))\n",
    "\n",
    "X = X / 255  #normalize always\n",
    "\n",
    "model = Sequential()\n",
    "model.add(Conv2D(64, (3,3), input_shape = X.shape[1:]))\n",
    "model.add(Activation(\"relu\"))\n",
    "model.add(MaxPooling2D(pool_size=(2,2)))\n",
    "\n",
    "model.add(Conv2D(64, (3,3), input_shape = X.shape[1:]))\n",
    "model.add(Activation(\"relu\"))\n",
    "model.add(MaxPooling2D(pool_size=(2,2)))\n",
    "\n",
    "model.add(Flatten())\n",
    "model.add(Dense(64)) #this a single dimensional array therefore you need to flatten out the 2D matrix\n",
    "model.add(Activation('relu'))\n",
    "\n",
    "model.add(Dense(1,activation=tf.nn.sigmoid))\n",
    "\n",
    "model.compile(loss = \"binary_crossentropy\",\n",
    "                 optimizer=\"adam\", metrics=['accuracy'])\n",
    "\n",
    "model.fit(X,Y, batch_size = 25, validation_split = 0.1,epochs = 3)"
   ]
  }
 ],
 "metadata": {
  "kernelspec": {
   "display_name": "Python (tf)",
   "language": "python",
   "name": "tf"
  },
  "language_info": {
   "codemirror_mode": {
    "name": "ipython",
    "version": 3
   },
   "file_extension": ".py",
   "mimetype": "text/x-python",
   "name": "python",
   "nbconvert_exporter": "python",
   "pygments_lexer": "ipython3",
   "version": "3.5.3"
  }
 },
 "nbformat": 4,
 "nbformat_minor": 2
}
